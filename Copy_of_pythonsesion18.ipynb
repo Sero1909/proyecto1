{
  "nbformat": 4,
  "nbformat_minor": 0,
  "metadata": {
    "colab": {
      "provenance": [],
      "authorship_tag": "ABX9TyOKlhmx4GOnN8oo9eWYx/58",
      "include_colab_link": true
    },
    "kernelspec": {
      "name": "python3",
      "display_name": "Python 3"
    },
    "language_info": {
      "name": "python"
    }
  },
  "cells": [
    {
      "cell_type": "markdown",
      "metadata": {
        "id": "view-in-github",
        "colab_type": "text"
      },
      "source": [
        "<a href=\"https://colab.research.google.com/github/Sero1909/proyecto1/blob/master/Copy_of_pythonsesion18.ipynb\" target=\"_parent\"><img src=\"https://colab.research.google.com/assets/colab-badge.svg\" alt=\"Open In Colab\"/></a>"
      ]
    },
    {
      "cell_type": "markdown",
      "source": [
        "***Variables en Python***"
      ],
      "metadata": {
        "id": "0Nry2BQbkX1v"
      }
    },
    {
      "cell_type": "code",
      "source": [
        "nombre='Juan'\n",
        "print('nombre:',nombre)\n",
        "edad=25\n",
        "esMayor= True\n",
        "IVA= 0.19\n",
        "#type(x), muestra el tipo de datos de x\n",
        "type(IVA)\n",
        "print('Nombre:',nombre,'Edad:',edad)\n",
        "print('Nombre: '+nombre+' Edad: '+ str(edad))\n",
        "print(f'Nombre: {nombre}, Edad: {edad}')\n",
        "#str(x)... convierte x a string(str)"
      ],
      "metadata": {
        "colab": {
          "base_uri": "https://localhost:8080/"
        },
        "id": "y6SMaCDJkj7P",
        "outputId": "012cf8bc-ef4d-4593-915f-85923d3cbb5e"
      },
      "execution_count": null,
      "outputs": [
        {
          "output_type": "stream",
          "name": "stdout",
          "text": [
            "nombre: Juan\n",
            "Nombre: Juan Edad: 25\n",
            "Nombre: Juan Edad: 25\n",
            "Nombre: Juan, Edad: 25\n"
          ]
        }
      ]
    },
    {
      "cell_type": "markdown",
      "source": [
        "***Operadores aritmeticos***"
      ],
      "metadata": {
        "id": "K_Qd1jgFn7qp"
      }
    },
    {
      "cell_type": "code",
      "source": [
        "a=10\n",
        "b=3\n",
        "print('suma:',a+b)\n",
        "print('resta:',a-b)\n",
        "print('multiplicación:',a*b)\n",
        "print('division:',a/b)\n",
        "print('division entera:',a//b)\n",
        "print('modulo:',a%b)\n",
        "print('potencia:',a**b)\n",
        "#operadores de incremento\n",
        "a+=5\n",
        "print(a)\n",
        "a-=5\n",
        "print(a)\n",
        "a*=5\n",
        "print(a)"
      ],
      "metadata": {
        "colab": {
          "base_uri": "https://localhost:8080/"
        },
        "id": "89HbmxjRoA-o",
        "outputId": "e8e8b65a-eb90-4392-f3c5-0be57da6375e"
      },
      "execution_count": null,
      "outputs": [
        {
          "output_type": "stream",
          "name": "stdout",
          "text": [
            "suma: 13\n",
            "resta: 7\n",
            "multiplicación: 30\n",
            "division: 3.3333333333333335\n",
            "division entera: 3\n",
            "modulo: 1\n",
            "potencia: 1000\n",
            "15\n",
            "10\n",
            "50\n"
          ]
        }
      ]
    },
    {
      "cell_type": "markdown",
      "source": [
        "***Operadores de comparación***"
      ],
      "metadata": {
        "id": "rcB3sV_OptM8"
      }
    },
    {
      "cell_type": "code",
      "source": [
        "x=7\n",
        "y=6\n",
        "print('son iguales?: ',x==y)\n",
        "print('son iguales?: ',x!=y)\n",
        "print(f'{x} es mayor que {y}?: ',x>y)\n",
        "print(f'{x} es menor que {y}?: ',x<y)\n",
        "print(f'{x} es mayor o igual que {y}?: ',x>=y)\n",
        "print(f'{x} es menor o igual que {y}?: ',x<=y)"
      ],
      "metadata": {
        "colab": {
          "base_uri": "https://localhost:8080/"
        },
        "id": "LziCyw-Cpywh",
        "outputId": "e80e502f-b508-46bb-f7c2-1b90e57167e7"
      },
      "execution_count": null,
      "outputs": [
        {
          "output_type": "stream",
          "name": "stdout",
          "text": [
            "son iguales?:  False\n",
            "son iguales?:  True\n",
            "7 es mayor que 6?:  True\n",
            "7 es menor que 6?:  False\n",
            "7 es mayor o igual que 6?:  True\n",
            "7 es menor o igual que 6?:  False\n"
          ]
        }
      ]
    },
    {
      "cell_type": "markdown",
      "source": [
        "***Operadores relacionales***"
      ],
      "metadata": {
        "id": "-JUjsimrq7nx"
      }
    },
    {
      "cell_type": "code",
      "source": [
        "condicion1=True\n",
        "condicion2=False\n",
        "condicion1 and condicion2\n",
        "condicion1 or condicion2\n",
        "not condicion1"
      ],
      "metadata": {
        "colab": {
          "base_uri": "https://localhost:8080/"
        },
        "id": "SCz2WprTq_ed",
        "outputId": "eb4ac079-e420-4cf3-9e49-639fd4c04668"
      },
      "execution_count": null,
      "outputs": [
        {
          "output_type": "execute_result",
          "data": {
            "text/plain": [
              "False"
            ]
          },
          "metadata": {},
          "execution_count": 18
        }
      ]
    },
    {
      "cell_type": "markdown",
      "source": [
        "***Colecciones de datos: Listas***"
      ],
      "metadata": {
        "id": "Iy0QaU5WsJZm"
      }
    },
    {
      "cell_type": "code",
      "source": [
        "milista=[10,20,'hola',True, 3.5]\n",
        "print('tamaño:', len(milista))\n",
        "print('milista:', milista)\n",
        "#acceder a un elemento de la lista por su indice\n",
        "print(milista[0])\n",
        "print(milista[1])\n",
        "print(milista[2])\n",
        "print(milista[3])\n",
        "print(milista[4])\n",
        "#actualizar un valor de la lista\n",
        "milista[3]='Buenos dias'\n",
        "print('milista:',milista)\n",
        "#agregar un elemento al final de la lista\n",
        "milista.append(500)\n",
        "print('milista:',milista)\n",
        "#insertar elemento en cualquier posicion\n",
        "milista.insert(1,False)\n",
        "print('milista:',milista)\n",
        "#eliminar un elemento de la lista\n",
        "del milista[0]\n",
        "print('milista:',milista)\n",
        "milista.remove('hola')\n",
        "print('milista:',milista)\n",
        "\n",
        "\n",
        "\n",
        "\n",
        "\n"
      ],
      "metadata": {
        "colab": {
          "base_uri": "https://localhost:8080/"
        },
        "id": "yupc3DHCtJMk",
        "outputId": "ef821d27-acb5-4b27-a433-9a997b0ebdc0"
      },
      "execution_count": null,
      "outputs": [
        {
          "output_type": "stream",
          "name": "stdout",
          "text": [
            "tamaño: 5\n",
            "milista: [10, 20, 'hola', True, 3.5]\n",
            "10\n",
            "20\n",
            "hola\n",
            "True\n",
            "3.5\n",
            "milista: [10, 20, 'hola', 'Buenos dias', 3.5]\n",
            "milista: [10, 20, 'hola', 'Buenos dias', 3.5, 500]\n",
            "milista: [10, False, 20, 'hola', 'Buenos dias', 3.5, 500]\n",
            "milista: [False, 20, 'hola', 'Buenos dias', 3.5, 500]\n",
            "milista: [False, 20, 'Buenos dias', 3.5, 500]\n"
          ]
        }
      ]
    },
    {
      "cell_type": "markdown",
      "source": [
        "***Programa que suma dos números***"
      ],
      "metadata": {
        "id": "YU0un-h_wBjk"
      }
    },
    {
      "cell_type": "code",
      "source": [
        "#int(x)...convierte x a tipo entero\n",
        "num1=int(input('ingrese el primer número' ))\n",
        "num2=int(input('ingrese el segundo número '))\n",
        "suma=num1+num2\n",
        "print('Suma:',suma)\n",
        "#float(x)...convierte x a tipo real\n",
        "num1=float(input('ingrese el primer número' ))\n",
        "num2=float(input('ingrese el segundo número '))\n",
        "suma=num1+num2\n",
        "print('Suma:',suma)\n",
        "\n"
      ],
      "metadata": {
        "colab": {
          "base_uri": "https://localhost:8080/"
        },
        "id": "jHNh009RwIKi",
        "outputId": "54d68bde-0620-4781-c94a-d9572161ec3a"
      },
      "execution_count": null,
      "outputs": [
        {
          "output_type": "stream",
          "name": "stdout",
          "text": [
            "ingrese el primer número24\n",
            "ingrese el segundo número 23\n",
            "Suma: 47\n",
            "ingrese el primer número1.2\n",
            "ingrese el segundo número 2.5\n",
            "Suma: 3.7\n"
          ]
        }
      ]
    },
    {
      "cell_type": "markdown",
      "source": [
        "***Programa que saluda***"
      ],
      "metadata": {
        "id": "c02CndqUy2tt"
      }
    },
    {
      "cell_type": "code",
      "source": [
        "nombre=input('Cómo te llamas?:')\n",
        "print(f'Habla viejo {nombre}, Todo bien?')\n"
      ],
      "metadata": {
        "colab": {
          "base_uri": "https://localhost:8080/"
        },
        "id": "aj_mRgswy5TZ",
        "outputId": "645ee0cc-b6fb-4d83-e164-22da73a74bef"
      },
      "execution_count": null,
      "outputs": [
        {
          "output_type": "stream",
          "name": "stdout",
          "text": [
            "Cómo te llamas?:Sergio\n",
            "Habla viejo Sergio, Todo bien?\n"
          ]
        }
      ]
    },
    {
      "cell_type": "markdown",
      "source": [
        "***Colecciones de datos: Diccionarios***"
      ],
      "metadata": {
        "id": "usMdWM7o0rE7"
      }
    },
    {
      "cell_type": "code",
      "source": [
        "persona={'nombre':'Sergio','apellido':'Roa', 'Profesión':'Diseñador Grafico', 'Ciudad':'Barranquilla', 'edad':26,5:'calle 7','x1':True}\n",
        "print('tamaño:',len(persona))\n",
        "print('persona:',persona)\n",
        "#acceder a un valor del diccionario\n",
        "print(persona[5])\n",
        "print(f\"{persona['nombre']} {persona['apellido']} tiene {persona['edad']} años y vive en {persona[5]}\")\n",
        "#actializar un valor del diccionario por la clave\n",
        "persona['apellido']='Anaya'\n",
        "print('persona',persona)\n",
        "#agregar un valor al diccionario\n",
        "persona['tel']=3017976660\n",
        "print('persona',persona)\n",
        "#eliminar un valor del diccionario\n",
        "del persona['x1']\n",
        "print('persona:',persona)\n",
        "#buscar un valor en el diccionario por su clave\n",
        "persona.get('profesion','La clave no está en el diccionario')\n"
      ],
      "metadata": {
        "colab": {
          "base_uri": "https://localhost:8080/",
          "height": 157
        },
        "id": "p0kPnWJv08Z4",
        "outputId": "ca8ae3d6-1882-4ae2-fba2-b19ca61f63c8"
      },
      "execution_count": null,
      "outputs": [
        {
          "output_type": "stream",
          "name": "stdout",
          "text": [
            "tamaño: 7\n",
            "persona: {'nombre': 'Sergio', 'apellido': 'Roa', 'Profesión': 'Diseñador Grafico', 'Ciudad': 'Barranquilla', 'edad': 26, 5: 'calle 7', 'x1': True}\n",
            "calle 7\n",
            "Sergio Roa tiene 26 años y vive en calle 7\n",
            "persona {'nombre': 'Sergio', 'apellido': 'Anaya', 'Profesión': 'Diseñador Grafico', 'Ciudad': 'Barranquilla', 'edad': 26, 5: 'calle 7', 'x1': True}\n",
            "persona {'nombre': 'Sergio', 'apellido': 'Anaya', 'Profesión': 'Diseñador Grafico', 'Ciudad': 'Barranquilla', 'edad': 26, 5: 'calle 7', 'x1': True, 'tel': 3017976660}\n",
            "persona: {'nombre': 'Sergio', 'apellido': 'Anaya', 'Profesión': 'Diseñador Grafico', 'Ciudad': 'Barranquilla', 'edad': 26, 5: 'calle 7', 'tel': 3017976660}\n"
          ]
        },
        {
          "output_type": "execute_result",
          "data": {
            "text/plain": [
              "'La clave no está en el diccionario'"
            ],
            "application/vnd.google.colaboratory.intrinsic+json": {
              "type": "string"
            }
          },
          "metadata": {},
          "execution_count": 64
        }
      ]
    }
  ]
}